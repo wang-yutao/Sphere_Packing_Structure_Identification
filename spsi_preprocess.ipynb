{
 "cells": [
  {
   "cell_type": "markdown",
   "metadata": {},
   "source": [
    "# 处理原始数据"
   ]
  },
  {
   "cell_type": "code",
   "execution_count": 1,
   "metadata": {},
   "outputs": [],
   "source": [
    "import os\n",
    "import numpy as np\n",
    "import pickle"
   ]
  },
  {
   "cell_type": "code",
   "execution_count": 2,
   "metadata": {},
   "outputs": [],
   "source": [
    "# 读入颗粒数据\n",
    "filepath = os.path.join('data','spsi_cutoff_25_1.txt')\n",
    "particle = []\n",
    "signature = []\n",
    "with open(filepath) as file:\n",
    "    for lines in file.readlines():\n",
    "        line = lines.split()\n",
    "        particle.append(np.array(line[0:3], dtype='float32'))\n",
    "        signature.append(np.array(line[3:4], dtype='float32'))\n",
    "\n",
    "# 颗粒数 周期边界\n",
    "n_particle = particle[0][0]\n",
    "box_size = particle[1][0]\n",
    "\n",
    "# 1728个颗粒\n",
    "particle = np.array(particle[2:], dtype='float32')\n",
    "signature = np.array(signature[2:], dtype='float32')\n",
    "signature = np.squeeze(signature)"
   ]
  },
  {
   "cell_type": "code",
   "execution_count": 3,
   "metadata": {},
   "outputs": [
    {
     "output_type": "stream",
     "name": "stdout",
     "text": "1728 21.769487\nparticle: [[19.3346    8.07928   0.833602]\n [18.9701   15.1646    1.64121 ]] (1728, 3) float32\nsignature: [2. 1.] (1728,) float32\n"
    }
   ],
   "source": [
    "print(n_particle, box_size)\n",
    "print('particle:', particle[0:2], particle.shape, particle.dtype)\n",
    "print('signature:', signature[0:2], signature.shape, particle.dtype)"
   ]
  },
  {
   "cell_type": "code",
   "execution_count": 4,
   "metadata": {
    "tags": [
     "outputPrepend",
     "outputPrepend",
     "outputPrepend",
     "outputPrepend",
     "outputPrepend",
     "outputPrepend",
     "outputPrepend"
    ]
   },
   "outputs": [],
   "source": [
    "cutoff = 2.5\n",
    "particle_period = []\n",
    "\n",
    "# 扩充周期边界\n",
    "for p in particle:\n",
    "    for i in range(-1,2):\n",
    "        for j in range(-1,2):\n",
    "            for k in range(-1,2):\n",
    "                if not [i,j,k]==[0,0,0]:\n",
    "                    offset = np.array([i,j,k],dtype='float32')\n",
    "                    p_new = p + box_size*offset\n",
    "                    # print(pos,pos_new,offset)\n",
    "                    if (p_new >= -cutoff).all() and (p_new <= box_size + cutoff).all():\n",
    "                        particle_period.append(p_new)\n",
    "\n",
    "particle_period = np.array(particle_period, dtype='float32')"
   ]
  },
  {
   "cell_type": "code",
   "execution_count": 5,
   "metadata": {},
   "outputs": [],
   "source": [
    "particle_expand = np.concatenate([particle, particle_period])\n",
    "struct = []\n",
    "\n",
    "# 中心颗粒\n",
    "for i in range(n_particle):\n",
    "\n",
    "    # 与其他所有颗粒比较\n",
    "    neighbour = []\n",
    "    for j in range(len(particle_expand)):\n",
    "        if not i == j:\n",
    "            relate_coord = particle[i] - particle_expand[j]\n",
    "            dis = np.linalg.norm(relate_coord)\n",
    "            if dis <= cutoff:\n",
    "                neighbour.append(relate_coord)\n",
    "\n",
    "    struct.append(neighbour)"
   ]
  },
  {
   "cell_type": "code",
   "execution_count": 7,
   "metadata": {},
   "outputs": [],
   "source": [
    "# 转化为 np 数组\n",
    "max_len = 12\n",
    "structure = np.zeros((n_particle, max_len, 3))\n",
    "\n",
    "for i in range(n_particle):\n",
    "    for j in range(max_len):\n",
    "        try:\n",
    "            structure[i,j] = struct[i][j]\n",
    "        except Exception:\n",
    "            break"
   ]
  },
  {
   "cell_type": "code",
   "execution_count": 8,
   "metadata": {},
   "outputs": [
    {
     "output_type": "stream",
     "name": "stdout",
     "text": "Done\n"
    }
   ],
   "source": [
    "pickle_file = 'spsi_1.pkl'\n",
    "\n",
    "try:\n",
    "    f = open(pickle_file, 'wb')\n",
    "    save = {\n",
    "        'structure':structure,\n",
    "        'signature':signature,\n",
    "    }\n",
    "    pickle.dump(save, f)\n",
    "    f.close()\n",
    "    print('Done')\n",
    "except Exception as e:\n",
    "    print('Unable to save data:',e)"
   ]
  },
  {
   "cell_type": "code",
   "execution_count": 9,
   "metadata": {},
   "outputs": [
    {
     "output_type": "stream",
     "name": "stdout",
     "text": "structure: [[[-0.77549934  0.7129297  -1.7008381 ]\n  [-0.14249992  1.8294797   0.7959696 ]\n  [ 1.6442013   0.9305997   0.796118  ]\n  [ 1.7859001  -0.14908028 -0.88851804]\n  [ 0.8901005   1.6389098  -0.915898  ]\n  [-1.8086987   0.85362005  0.005898  ]\n  [-1.6301994  -0.95314026 -0.832998  ]\n  [ 0.92570114 -1.7728901   0.01099598]\n  [ 0.17239952 -1.0484104  -1.6945281 ]\n  [-0.8781986  -1.6742401   0.8742896 ]\n  [ 0.74300003 -0.72848034  1.7079897 ]\n  [-1.0625992   0.13169003  1.7152891 ]]\n\n [[ 1.0475998  -0.11159992 -1.7008001 ]\n  [-0.8368988  -1.6296997   0.87643194]\n  [-1.6030998  -0.8785     -0.8114401 ]\n  [-1.7821999   0.9281006   0.02900994]\n  [-0.17499924  1.8032007   0.847524  ]\n  [ 1.7646008  -0.941      -0.02807999]\n  [ 0.8696003   1.6920004  -0.85448015]\n  [ 1.6048012   0.87210083  0.81503296]\n  [-0.78089905  0.7290001  -1.6908602 ]\n  [ 0.1630001  -1.8165989  -0.84561   ]\n  [-1.0128002   0.17730045  1.7154974 ]\n  [ 0.76670074 -0.7372999   1.6940969 ]]] (1728, 12, 3) float32\nsignature: [2. 1.] (1728,) float32\n"
    }
   ],
   "source": [
    "pickle_file = 'spsi_1.pkl'\n",
    "\n",
    "f = open(pickle_file, 'rb')\n",
    "save = pickle.load(f)\n",
    "structure = np.array(save['structure'], dtype='float32')\n",
    "signature = np.array(save['signature'], dtype='float32')\n",
    "\n",
    "print('structure:',structure[0:2], structure.shape, structure.dtype)\n",
    "print('signature:',signature[0:2], signature.shape, signature.dtype)"
   ]
  },
  {
   "cell_type": "markdown",
   "metadata": {},
   "source": [
    "# 批处理"
   ]
  },
  {
   "cell_type": "code",
   "execution_count": 17,
   "metadata": {},
   "outputs": [],
   "source": [
    "def preprocess(filepath):\n",
    "    # 读入颗粒数据\n",
    "    # filepath = os.path.join('data','spsi_cutoff_25_1.txt')\n",
    "    particle = []\n",
    "    signature = []\n",
    "    with open(filepath) as file:\n",
    "        for lines in file.readlines():\n",
    "            line = lines.split()\n",
    "            particle.append(np.array(line[0:3], dtype='float32'))\n",
    "            signature.append(np.array(line[3:4], dtype='float32'))\n",
    "\n",
    "    # 颗粒数 周期边界\n",
    "    n_particle = particle[0][0]\n",
    "    box_size = particle[1][0]\n",
    "\n",
    "    # 1728个颗粒\n",
    "    particle = np.array(particle[2:], dtype='float32')\n",
    "    signature = np.array(signature[2:], dtype='float32')\n",
    "    signature = np.squeeze(signature)\n",
    "\n",
    "    cutoff = 2.5\n",
    "    particle_period = []\n",
    "\n",
    "    # 扩充周期边界\n",
    "    for p in particle:\n",
    "        for i in range(-1,2):\n",
    "            for j in range(-1,2):\n",
    "                for k in range(-1,2):\n",
    "                    if not [i,j,k]==[0,0,0]:\n",
    "                        offset = np.array([i,j,k],dtype='float32')\n",
    "                        p_new = p + box_size*offset\n",
    "                        # print(pos,pos_new,offset)\n",
    "                        if (p_new >= -cutoff).all() and (p_new <= box_size + cutoff).all():\n",
    "                            particle_period.append(p_new)\n",
    "\n",
    "    particle_period = np.array(particle_period, dtype='float32')\n",
    "\n",
    "    particle_expand = np.concatenate([particle, particle_period])\n",
    "    struct = []\n",
    "\n",
    "    # 中心颗粒\n",
    "    for i in range(n_particle):\n",
    "\n",
    "        # 与其他所有颗粒比较\n",
    "        neighbour = []\n",
    "        for j in range(len(particle_expand)):\n",
    "            if not i == j:\n",
    "                relate_coord = particle[i] - particle_expand[j]\n",
    "                dis = np.linalg.norm(relate_coord)\n",
    "                if dis <= cutoff:\n",
    "                    neighbour.append(relate_coord)\n",
    "\n",
    "        struct.append(neighbour)\n",
    "\n",
    "    # 转化为 np 数组\n",
    "    max_len = 12\n",
    "    structure = np.zeros((n_particle, max_len, 3))\n",
    "\n",
    "    for i in range(n_particle):\n",
    "        for j in range(max_len):\n",
    "            try:\n",
    "                structure[i,j] = struct[i][j]\n",
    "            except Exception:\n",
    "                break\n",
    "    \n",
    "    return structure, signature"
   ]
  },
  {
   "cell_type": "code",
   "execution_count": 19,
   "metadata": {},
   "outputs": [
    {
     "output_type": "stream",
     "name": "stdout",
     "text": "structure: [[[-0.77549934  0.71292973 -1.70083809]\n  [-0.14249992  1.82947969  0.79596961]\n  [ 1.64420128  0.93059969  0.79611802]\n  [ 1.78590012 -0.14908028 -0.88851804]\n  [ 0.89010048  1.63890982 -0.91589803]\n  [-1.80869865  0.85362005  0.005898  ]\n  [-1.63019943 -0.95314026 -0.83299798]\n  [ 0.92570114 -1.77289009  0.01099598]\n  [ 0.17239952 -1.04841042 -1.6945281 ]\n  [-0.87819862 -1.67424011  0.87428957]\n  [ 0.74300003 -0.72848034  1.70798969]\n  [-1.06259918  0.13169003  1.71528912]]\n\n [[ 1.04759979 -0.11159992 -1.70080006]\n  [-0.8368988  -1.62969971  0.87643194]\n  [-1.60309982 -0.87849998 -0.81144011]\n  [-1.78219986  0.92810059  0.02900994]\n  [-0.17499924  1.80320072  0.84752399]\n  [ 1.76460075 -0.94099998 -0.02807999]\n  [ 0.8696003   1.69200039 -0.85448015]\n  [ 1.60480118  0.87210083  0.81503296]\n  [-0.78089905  0.72900009 -1.69086015]\n  [ 0.16300011 -1.81659889 -0.84561002]\n  [-1.01280022  0.17730045  1.71549737]\n  [ 0.76670074 -0.73729992  1.69409692]]] (17280, 12, 3) float64\nsignature: [2. 1.] (17280,) float32\n"
    }
   ],
   "source": [
    "for i in range(2,11):\n",
    "    filepath = os.path.join('data','spsi_cutoff_25_'+str(i)+'.txt')\n",
    "    structure_next, signature_next = preprocess(filepath)\n",
    "    structure = np.concatenate([structure, structure_next])\n",
    "    signature = np.concatenate([signature, signature_next])\n",
    "\n",
    "print('structure:',structure[0:2], structure.shape, structure.dtype)\n",
    "print('signature:',signature[0:2], signature.shape, signature.dtype)"
   ]
  },
  {
   "cell_type": "code",
   "execution_count": 20,
   "metadata": {},
   "outputs": [
    {
     "output_type": "stream",
     "name": "stdout",
     "text": "Done\n"
    }
   ],
   "source": [
    "pickle_file = 'spsi_dataset.pkl'\n",
    "\n",
    "try:\n",
    "    f = open(pickle_file, 'wb')\n",
    "    save = {\n",
    "        'structure':structure,\n",
    "        'signature':signature,\n",
    "    }\n",
    "    pickle.dump(save, f)\n",
    "    f.close()\n",
    "    print('Done')\n",
    "except Exception as e:\n",
    "    print('Unable to save data:',e)"
   ]
  },
  {
   "cell_type": "code",
   "execution_count": null,
   "metadata": {},
   "outputs": [],
   "source": []
  }
 ],
 "metadata": {
  "language_info": {
   "codemirror_mode": {
    "name": "ipython",
    "version": 3
   },
   "file_extension": ".py",
   "mimetype": "text/x-python",
   "name": "python",
   "nbconvert_exporter": "python",
   "pygments_lexer": "ipython3",
   "version": "3.7.6-final"
  },
  "orig_nbformat": 2,
  "kernelspec": {
   "name": "python3",
   "display_name": "Python 3"
  }
 },
 "nbformat": 4,
 "nbformat_minor": 2
}